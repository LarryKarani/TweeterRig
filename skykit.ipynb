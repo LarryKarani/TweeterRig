{
 "cells": [
  {
   "cell_type": "code",
   "execution_count": 2,
   "metadata": {
    "collapsed": false
   },
   "outputs": [
    {
     "name": "stdout",
     "output_type": "stream",
     "text": [
      "['john', 'peter', 'mary', 'Lucy', 'Mary']\n",
      "[('john', 'mary'), ('john', 'peter'), ('Lucy', 'Mary')]\n",
      "True\n"
     ]
    }
   ],
   "source": [
    "import networkx as nx\n",
    "from datetime import datetime\n",
    "\n",
    "g = nx.Graph()\n",
    "g.add_node(\"john\", {'name':'John', 'age':25})\n",
    "g.add_node(\"peter\", {'name':'peter', 'age':35})\n",
    "g.add_node(\"mary\", {'name':'mary', 'age':31})\n",
    "g.add_node(\"Lucy\", {'name':'Lucy', 'age':19})\n",
    "\n",
    "g.add_edge(\"john\", \"mary\", {'since':datetime.today()})\n",
    "g.add_edge(\"john\",\"peter\", {'since':datetime(1990,7,30)})\n",
    "g.add_edge(\"Mary\",  \"Lucy\", {'siced':datetime(2010,8,10)})\n",
    "\n",
    "\n",
    "print(g.nodes())\n",
    "print(g.edges())\n",
    "print(g.has_edge(\"Lucy\", \"Mary\"))\n"
   ]
  },
  {
   "cell_type": "code",
   "execution_count": null,
   "metadata": {
    "collapsed": true
   },
   "outputs": [],
   "source": [
    "import matplotlib.pyplot as plt\n",
    "import numpy as np\n",
    "\n",
    "x = np.array([1,2,3,4,5])\n",
    "y = x*x\n",
    "plt.plot(x, y 'ro')\n",
    "plt.axis([0,6,0,30])"
   ]
  }
 ],
 "metadata": {
  "kernelspec": {
   "display_name": "Python 3",
   "language": "python",
   "name": "python3"
  },
  "language_info": {
   "codemirror_mode": {
    "name": "ipython",
    "version": 3
   },
   "file_extension": ".py",
   "mimetype": "text/x-python",
   "name": "python",
   "nbconvert_exporter": "python",
   "pygments_lexer": "ipython3",
   "version": "3.6.0"
  }
 },
 "nbformat": 4,
 "nbformat_minor": 2
}
